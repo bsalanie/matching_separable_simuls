{
 "cells": [
  {
   "cell_type": "markdown",
   "metadata": {},
   "source": [
    "# read_data\n",
    "\n",
    "> This reads the marriage patterns for the non-reform states in the 1970 wave of the Choo and Siow *JPE* 2006 data."
   ]
  },
  {
   "cell_type": "code",
   "execution_count": null,
   "metadata": {},
   "outputs": [],
   "source": [
    "#| default_exp read_data"
   ]
  },
  {
   "cell_type": "code",
   "execution_count": null,
   "metadata": {},
   "outputs": [],
   "source": [
    "%load_ext autoreload\n",
    "%autoreload 2"
   ]
  },
  {
   "cell_type": "code",
   "execution_count": null,
   "metadata": {},
   "outputs": [],
   "source": [
    "#| hide\n",
    "from nbdev.showdoc import *\n",
    "from fastcore.test import *\n",
    "import numpy as np\n",
    "from pathlib import Path"
   ]
  },
  {
   "cell_type": "code",
   "execution_count": null,
   "metadata": {},
   "outputs": [],
   "source": [
    "#| export\n",
    "data_dir = Path.cwd().parent / \"matching_separable_simuls\" / \"ChooSiow70nNdata\"\n",
    "\n",
    "def read_margins(\n",
    "    ) -> tuple[np.ndarray, np.ndarray]: \n",
    "    \"\"\"reads and returns the margins for men and for women \"\"\"\n",
    "    nx = np.loadtxt(data_dir / \"nx70n.txt\")\n",
    "    my = np.loadtxt(data_dir / \"my70n.txt\")\n",
    "    return nx, my\n",
    "\n",
    "def read_marriages(\n",
    "    ) -> tuple[np.ndarray, np.ndarray]: \n",
    "    \"\"\" reads and returns the marriages and the variances\"\"\"\n",
    "    muxy = np.loadtxt(data_dir / \"muxy70nN.txt\")\n",
    "    varmus = np.loadtxt(data_dir / \"varmus70nN.txt\")\n",
    "    return muxy, varmus\n",
    "\n",
    "nx, my = read_margins()\n",
    "muxy, varmus = read_marriages()\n",
    "    \n",
    "\n",
    "    \n",
    "    "
   ]
  },
  {
   "cell_type": "code",
   "execution_count": null,
   "metadata": {},
   "outputs": [],
   "source": [
    "#| hide\n",
    "test_eq(muxy[3,4], 16730.0)\n",
    "test_eq(nx[-1], 84399)\n",
    "test_eq(my[7], 281192)\n",
    "test_eq(varmus.shape, (675, 675))"
   ]
  },
  {
   "cell_type": "code",
   "execution_count": null,
   "metadata": {},
   "outputs": [],
   "source": [
    "#| hide\n",
    "import nbdev; nbdev.nbdev_export()"
   ]
  },
  {
   "cell_type": "code",
   "execution_count": null,
   "metadata": {},
   "outputs": [],
   "source": []
  }
 ],
 "metadata": {
  "kernelspec": {
   "display_name": "Python 3 (ipykernel)",
   "language": "python",
   "name": "python3"
  }
 },
 "nbformat": 4,
 "nbformat_minor": 4
}
