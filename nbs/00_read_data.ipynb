{
 "cells": [
  {
   "cell_type": "markdown",
   "metadata": {},
   "source": [
    "# read_data\n",
    "\n",
    "> This reads the marriage patterns for the non-reform states in the 1970 wave of the Choo and Siow *JPE* 2006 data."
   ]
  },
  {
   "cell_type": "code",
   "execution_count": null,
   "metadata": {},
   "outputs": [],
   "source": [
    "#| default_exp read_data"
   ]
  },
  {
   "cell_type": "code",
   "execution_count": null,
   "metadata": {},
   "outputs": [],
   "source": [
    "%load_ext autoreload\n",
    "%autoreload 2"
   ]
  },
  {
   "cell_type": "code",
   "execution_count": null,
   "metadata": {},
   "outputs": [],
   "source": [
    "#| hide\n",
    "from nbdev.showdoc import *\n"
   ]
  },
  {
   "cell_type": "code",
   "execution_count": null,
   "metadata": {},
   "outputs": [],
   "source": [
    "#| export\n",
    "from fastcore.test import *\n",
    "from sys import platform\n",
    "import numpy as np\n",
    "from pathlib import Path\n",
    "from typing import Tuple"
   ]
  },
  {
   "cell_type": "code",
   "execution_count": null,
   "metadata": {},
   "outputs": [],
   "source": [
    "#| export\n",
    "\n",
    "def get_root_dir(\n",
    ") -> Path:\n",
    "    \"\"\" returns the package directory \"\"\"\n",
    "    root_dir = Path.cwd().parent\n",
    "    if platform in [\"linux\", \"linux2\"]:\n",
    "        root_dir = Path.cwd().parent.parent\n",
    "    return root_dir\n"
   ]
  },
  {
   "cell_type": "code",
   "execution_count": null,
   "metadata": {},
   "outputs": [],
   "source": [
    "#| export\n",
    "\n",
    "def read_margins(\n",
    "    data_dir: Path      # the data directory\n",
    "    ) -> Tuple[np.ndarray, np.ndarray]: \n",
    "    \"\"\"reads and returns the margins for men and for women \"\"\"\n",
    "    nx = np.loadtxt(data_dir / \"nx70n.txt\")\n",
    "    my = np.loadtxt(data_dir / \"my70n.txt\")\n",
    "    return nx, my\n",
    "\n",
    "def read_marriages(\n",
    "    data_dir: Path      # the data directory\n",
    "    ) -> Tuple[np.ndarray, np.ndarray]: \n",
    "    \"\"\" reads and returns the marriages and the variances\"\"\"\n",
    "    muxy = np.loadtxt(data_dir / \"muxy70nN.txt\")\n",
    "    varmus = np.loadtxt(data_dir / \"varmus70nN.txt\")\n",
    "    return muxy, varmus\n",
    "\n",
    "\n",
    "    \n",
    "\n",
    "    \n",
    "    "
   ]
  },
  {
   "cell_type": "code",
   "execution_count": null,
   "metadata": {},
   "outputs": [],
   "source": []
  },
  {
   "cell_type": "code",
   "execution_count": null,
   "metadata": {},
   "outputs": [],
   "source": []
  },
  {
   "cell_type": "code",
   "execution_count": null,
   "metadata": {},
   "outputs": [],
   "source": [
    "#| hide\n",
    "import nbdev; nbdev.nbdev_export()"
   ]
  },
  {
   "cell_type": "code",
   "execution_count": null,
   "metadata": {},
   "outputs": [],
   "source": []
  }
 ],
 "metadata": {
  "kernelspec": {
   "display_name": "Python 3 (ipykernel)",
   "language": "python",
   "name": "python3"
  }
 },
 "nbformat": 4,
 "nbformat_minor": 4
}
