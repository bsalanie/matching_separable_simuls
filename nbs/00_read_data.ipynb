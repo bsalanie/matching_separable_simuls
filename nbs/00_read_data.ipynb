{
 "cells": [
  {
   "cell_type": "raw",
   "metadata": {},
   "source": [
    "---\n",
    "description: This reads the marriage patterns for the non-reform states in the 1970\n",
    "  wave of the Choo and Siow *JPE* 2006 data.\n",
    "output-file: read_data.html\n",
    "title: read_data\n",
    "\n",
    "---\n",
    "\n"
   ]
  },
  {
   "cell_type": "code",
   "execution_count": null,
   "metadata": {},
   "outputs": [],
   "source": [
    "#| default_exp read_data"
   ]
  },
  {
   "cell_type": "code",
   "execution_count": null,
   "metadata": {},
   "outputs": [],
   "source": [
    "%load_ext autoreload\n",
    "%autoreload 2"
   ]
  },
  {
   "cell_type": "code",
   "execution_count": null,
   "metadata": {},
   "outputs": [],
   "source": [
    "#| hide\n",
    "from nbdev.showdoc import *"
   ]
  },
  {
   "cell_type": "code",
   "execution_count": null,
   "metadata": {},
   "outputs": [],
   "source": [
    "#| export\n",
    "from fastcore.test import *\n",
    "from sys import platform\n",
    "import numpy as np\n",
    "from pathlib import Path\n",
    "from typing import Tuple\n",
    "\n",
    "from cupid_matching.matching_utils import Matching"
   ]
  },
  {
   "cell_type": "code",
   "execution_count": null,
   "metadata": {},
   "outputs": [],
   "source": [
    "#| export\n",
    "\n",
    "def get_root_dir(\n",
    ") -> Path:\n",
    "    \"\"\" returns the package directory \"\"\"\n",
    "    root_dir = Path.cwd().parent\n",
    "    if platform in [\"linux\", \"linux2\"]:        # we are deploying\n",
    "        root_dir = Path.cwd().parent\n",
    "    return root_dir"
   ]
  },
  {
   "cell_type": "code",
   "execution_count": null,
   "metadata": {},
   "outputs": [],
   "source": [
    "#| export\n",
    "\n",
    "def read_margins(\n",
    "    data_dir: Path      # the data directory\n",
    "    ) -> Tuple[np.ndarray, np.ndarray]: \n",
    "    \"\"\"reads and returns the margins for men and for women \"\"\"\n",
    "    nx = np.loadtxt(data_dir / \"nx70n.txt\")\n",
    "    my = np.loadtxt(data_dir / \"my70n.txt\")\n",
    "    return nx, my\n",
    "\n",
    "def read_marriages(\n",
    "    data_dir: Path      # the data directory\n",
    "    ) -> Tuple[np.ndarray, np.ndarray]: \n",
    "    \"\"\" reads and returns the marriages and the variances\"\"\"\n",
    "    muxy = np.loadtxt(data_dir / \"muxy70nN.txt\")\n",
    "    varmus = np.loadtxt(data_dir / \"varmus70nN.txt\")\n",
    "    return muxy, varmus"
   ]
  },
  {
   "cell_type": "code",
   "execution_count": null,
   "metadata": {},
   "outputs": [],
   "source": [
    "#| export \n",
    "\n",
    "def reshape_varcov(\n",
    "    varmus: np.ndarray,      #  muxy row major, then  mux0, then mu0y packed in both dimensions\n",
    "    ncat_men: int,           # the number of types of men\n",
    "    ncat_women: int,         # the number of types of women\n",
    "    n_households_pop: int    #  the number of households in the population\n",
    ") -> tuple[np.ndarray]:      #  the 6 constituent blocks of the normalized variance-covariance\n",
    "    \"\"\" splits the variance-covariance matrix \n",
    "    and divides it by the square of the total number of households in the population\n",
    "    \"\"\"\n",
    "    n_prod_categories = ncat_men * ncat_women\n",
    "    varmus_xyzt = varmus[:n_prod_categories, :n_prod_categories]\n",
    "    varmus_xyz0 = varmus[:n_prod_categories,\n",
    "                                n_prod_categories:(n_prod_categories + ncat_men)]\n",
    "    varmus_xy0t = varmus[:n_prod_categories,\n",
    "                                (n_prod_categories + ncat_men):]\n",
    "    varmus_x0z0 = varmus[n_prod_categories:(n_prod_categories + ncat_men),\n",
    "                                n_prod_categories:(n_prod_categories + ncat_men)]\n",
    "    varmus_x00y = varmus[n_prod_categories:(n_prod_categories + ncat_men), \n",
    "                         (n_prod_categories + ncat_men):]\n",
    "    varmus_0y0t = varmus[(n_prod_categories + ncat_men):, \n",
    "                         (n_prod_categories + ncat_men):]\n",
    "    varcovs = (varmus_xyzt, varmus_xyz0, varmus_xy0t,\n",
    "              varmus_x0z0, varmus_x00y, varmus_0y0t)\n",
    "    N2 = n_households_pop * n_households_pop\n",
    "    varcovs = tuple(v/N2 for v in varcovs)\n",
    "    return varcovs\n",
    "\n",
    "\n",
    "def normalize_mus(\n",
    "    mus: Matching,         # muxy, mux0, mu0y\n",
    "    n_households_pop: int    # the number of households in the population\n",
    ") -> Tuple[Matching, np.ndarray, np.ndarray]:  # the normalized (muxy, mux0, mu0y), nx, my\n",
    "    \"\"\" normalizes the marriages and margins by dividing by the total number of households in the population\"\"\"\n",
    "    muxy, *_, nx, my = mus.unpack()\n",
    "    muxy_norm = muxy / n_households_pop\n",
    "    nx_norm = nx / n_households_pop\n",
    "    my_norm = my / n_households_pop\n",
    "    mus_norm = Matching(muxy_norm, nx_norm, my_norm)\n",
    "    return mus_norm\n",
    "\n"
   ]
  },
  {
   "cell_type": "code",
   "execution_count": null,
   "metadata": {},
   "outputs": [],
   "source": []
  },
  {
   "cell_type": "code",
   "execution_count": null,
   "metadata": {},
   "outputs": [],
   "source": [
    "#| hide\n",
    "import nbdev; nbdev.nbdev_export()"
   ]
  },
  {
   "cell_type": "code",
   "execution_count": null,
   "metadata": {},
   "outputs": [],
   "source": []
  }
 ],
 "metadata": {
  "kernelspec": {
   "display_name": "Python 3 (ipykernel)",
   "language": "python",
   "name": "python3"
  }
 },
 "nbformat": 4,
 "nbformat_minor": 4
}
