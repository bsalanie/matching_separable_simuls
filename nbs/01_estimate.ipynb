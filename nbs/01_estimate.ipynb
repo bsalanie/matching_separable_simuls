{
 "cells": [
  {
   "cell_type": "raw",
   "id": "5303d505",
   "metadata": {},
   "source": [
    "---\n",
    "description: This contains estimation code for the Choo and Siow *JPE* 2006 data.\n",
    "output-file: estimate.html\n",
    "title: estimate\n",
    "\n",
    "---"
   ]
  },
  {
   "cell_type": "code",
   "execution_count": null,
   "id": "85f798d3",
   "metadata": {},
   "outputs": [],
   "source": [
    "#| default_exp estimate"
   ]
  },
  {
   "cell_type": "code",
   "execution_count": null,
   "id": "169087ca",
   "metadata": {},
   "outputs": [],
   "source": [
    "#| hide\n",
    "%load_ext autoreload\n",
    "%autoreload 2"
   ]
  },
  {
   "cell_type": "code",
   "execution_count": null,
   "id": "6ffbc1bb",
   "metadata": {},
   "outputs": [],
   "source": [
    "#| export\n",
    "import sys\n",
    "import numpy as np\n",
    "from fastcore.test import test_close, test_eq\n",
    "\n"
   ]
  },
  {
   "cell_type": "code",
   "execution_count": null,
   "id": "ee4c3eba",
   "metadata": {},
   "outputs": [],
   "source": [
    "#| export\n",
    "\n",
    "def legendre_polynomials(\n",
    "    x: np.ndarray,      # points where the polynomials are to be evaluated\n",
    "    max_deg: int,       # maximum degree\n",
    "    a: float = -1.0,    # start of interval, classically -1\n",
    "    b: float = 1.0,      # end of interval, classically 1\n",
    "    no_constant: bool = False       # if True, delete the constant polynomial\n",
    "    ) -> np.ndarray:    # returns an array of (max_deg+1) arrays of the shape of x\n",
    "    \"\"\" evaluates the Legendre polynomials over x in the interval [a, b] \"\"\"\n",
    "    if a > np.min(x):\n",
    "        sys.exit(f\"legendre_polynomials: points below start of interval\")\n",
    "    if b <  np.max(x):\n",
    "        sys.exit(f\"legendre_polynomials: points above end of interval\")\n",
    "    p =np.zeros((*x.shape, max_deg + 1))\n",
    "    p0 = np.ones_like(x)\n",
    "    x_transf = 2.0*(x-a)/(b-a)-1.0\n",
    "    p1 = x_transf\n",
    "    p[:, :, 0], p[:, :, 1] = np.ones_like(x), x_transf\n",
    "    for deg in range(2, max_deg+1):\n",
    "        p2 = (2*deg-1)*(p[:, :, deg-1]*x_transf)-(deg-1)*p[:, :, deg-2]\n",
    "        p[:, :, deg] = p2/deg\n",
    "    polys_p = p[:, :, 1:] if no_constant else p\n",
    "    return polys_p\n",
    "        \n",
    "    \n",
    "\n",
    "def quantile_transform(\n",
    "    v: np.ndarray        # a vector of counts\n",
    "    ) -> np.ndarray:     # the corresponding quantiles\n",
    "    \"\"\" transform a vector of counts into the corresponding quantiles \"\"\"\n",
    "    n = v.size\n",
    "    q = np.zeros(n)\n",
    "    for i in range(n):\n",
    "        q[i] = np.sum(v <= v[i])/(n+1)\n",
    "    return q\n",
    "        \n",
    "\n",
    "\n",
    "def generate_bases(\n",
    "    nx: np.ndarray,           # the numbers of men of each type\n",
    "    my: np.ndarray,           # the numbers of women of each type\n",
    "    max_deg_x: int,              # the max degree for polynomials in `x`\n",
    "    max_deg_y: int               # the max degree for polynomials in `y`\n",
    "    ) -> np.ndarray:        # the matrix of base functions\n",
    "    \"\"\" generates the bases for a semilinear specification \"\"\"\n",
    "    n_bases = 3 + max_deg_x * max_deg_y \n",
    "    n_types_men, n_types_women = nx.size, my.size\n",
    "    types_men, types_women = np.arange(n_types_men), np.arange(n_types_women)\n",
    "    base_funs = np.zeros((n_types_men, n_types_women, n_bases))\n",
    "    base_funs[:, :, 0] = 1.0\n",
    "    base_funs[:, :, 1] = np.outer(types_men, types_women, lambda x, y: x > y)\n",
    "    base_funs[:, :, 2] = np.outer(types_men, types_women, lambda x, y: max(x-y, 0))\n",
    "    # we quantile-transform nx and my\n",
    "    q_nx = quantile_transform(nx)\n",
    "    q_my = quantile_transform(my)\n",
    "    # and we use the Legendre polynomials on [0,1], except 1\n",
    "    polys_x = legendre_polynomials(q_nx, max_deg_x, a=0, no_constant=True)\n",
    "    polys_y = legendre_polynomials(q_my, max_deg_y, a=0, no_constant=True)\n",
    "    i_base = 3\n",
    "    for deg_x in range(1, max_deg_x + 1):\n",
    "        poly_x = polys_x[:, deg_x]\n",
    "        for deg_y in range(1, max_deg_y +1):\n",
    "            poly_y = polys_y[:, deg_y]\n",
    "            base_funs[:, :, i_base] = np.outer(poly_x, poly_y)\n",
    "            i_base += 1\n",
    "    return base_funs\n",
    "            \n",
    "    \n",
    "    \n",
    "    \n",
    "    \n",
    "    "
   ]
  },
  {
   "cell_type": "code",
   "execution_count": null,
   "id": "a02b2b2e",
   "metadata": {},
   "outputs": [],
   "source": [
    "#| hide\n",
    "x= np.arange(6).reshape((2,3))/6\n",
    "x_transf = 2*x-1\n",
    "p3 = legendre_polynomials(x, 3, a=0)\n",
    "test_eq(p3.shape, (2,3,4))"
   ]
  },
  {
   "cell_type": "code",
   "execution_count": null,
   "id": "1e4bbfd0",
   "metadata": {},
   "outputs": [],
   "source": [
    "#| hide\n",
    "test_close(p3[:, :, 0], 1.0)"
   ]
  },
  {
   "cell_type": "code",
   "execution_count": null,
   "id": "3ae21874",
   "metadata": {},
   "outputs": [],
   "source": [
    "#| hide\n",
    "test_close(p3[:, :, 1], x_transf)"
   ]
  },
  {
   "cell_type": "code",
   "execution_count": null,
   "id": "1675061a",
   "metadata": {},
   "outputs": [],
   "source": [
    "#| hide\n",
    "test_close(p3[:, :, 2], (3*x_transf*x_transf-1)/2)"
   ]
  },
  {
   "cell_type": "code",
   "execution_count": null,
   "id": "6f917016",
   "metadata": {},
   "outputs": [],
   "source": [
    "#| hide\n",
    "test_close(p3[:, :, 3], (5*x_transf*x_transf*x_transf-3*x_transf)/2)"
   ]
  },
  {
   "cell_type": "code",
   "execution_count": null,
   "id": "0c7bf2f2",
   "metadata": {},
   "outputs": [],
   "source": [
    "#| hide\n",
    "test_close(quantile_transform(np.array([2.0, -1.0, 3.5, 4.1, 1.2])), np.array([3, 1, 4, 5, 2])/6.0)"
   ]
  },
  {
   "cell_type": "code",
   "execution_count": null,
   "id": "7ebf78b0",
   "metadata": {},
   "outputs": [],
   "source": [
    "#| hide\n",
    "import nbdev; nbdev.nbdev_export()"
   ]
  }
 ],
 "metadata": {
  "kernelspec": {
   "display_name": "Python 3 (ipykernel)",
   "language": "python",
   "name": "python3"
  }
 },
 "nbformat": 4,
 "nbformat_minor": 5
}
