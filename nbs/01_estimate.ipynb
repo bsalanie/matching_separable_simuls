{
 "cells": [
  {
   "cell_type": "raw",
   "id": "5303d505",
   "metadata": {},
   "source": [
    "---\n",
    "description: This contains estimation code for the Choo and Siow *JPE* 2006 data.\n",
    "output-file: estimate.html\n",
    "title: estimate\n",
    "\n",
    "---"
   ]
  },
  {
   "cell_type": "code",
   "execution_count": null,
   "id": "85f798d3",
   "metadata": {},
   "outputs": [],
   "source": [
    "#| default_exp estimate"
   ]
  },
  {
   "cell_type": "code",
   "execution_count": null,
   "id": "169087ca",
   "metadata": {},
   "outputs": [],
   "source": [
    "#| hide\n",
    "%load_ext autoreload\n",
    "%autoreload 2"
   ]
  },
  {
   "cell_type": "code",
   "execution_count": null,
   "id": "6ffbc1bb",
   "metadata": {},
   "outputs": [],
   "source": [
    "#| export\n",
    "\n",
    "import numpy as np\n",
    "from fastcore.test import test_close, test_eq\n",
    "from typing import Tuple, List\n",
    "\n",
    "from matching_separable_simuls.utils import legendre_polynomials, quantile_transform\n",
    "\n"
   ]
  },
  {
   "cell_type": "code",
   "execution_count": null,
   "id": "ee4c3eba",
   "metadata": {},
   "outputs": [],
   "source": [
    "#| export\n",
    "\n",
    "def generate_bases(\n",
    "    nx: np.ndarray,                              # the numbers of men of each type\n",
    "    my: np.ndarray,                              # the numbers of women of each type\n",
    "    degrees: List[Tuple[int, int]],              # the list of degrees for polynomials in `x` and `y`\n",
    "    ) -> Tuple[np.ndarray, List[str]]:           # the matrix of base functions and their names\n",
    "    \"\"\" generates the bases for a semilinear specification \"\"\"\n",
    "    n_bases = 3 + len(degrees)\n",
    "    n_types_men, n_types_women = nx.size, my.size\n",
    "    types_men, types_women = np.arange(n_types_men), np.arange(n_types_women)\n",
    "    base_funs = np.zeros((n_types_men, n_types_women, n_bases))\n",
    "    base_names = [None]*n_bases\n",
    "    base_funs[:, :, 0] = 1.0\n",
    "    base_names[0] = \"1\"\n",
    "    for y in types_women:\n",
    "        base_funs[:, y, 1] = np.where(types_men > y, 1.0, 0.0)\n",
    "        base_funs[:, y, 2] = np.where(types_men > y, types_men-y, 0)\n",
    "    base_funs[:, :, 2] /= (n_types_men + n_types_women)/2\n",
    "    base_names[1] = \"1(x>y)\"\n",
    "    base_names[2] = \"max(x-y,0)\"\n",
    "    # we quantile-transform nx and my\n",
    "    q_nx = quantile_transform(nx)\n",
    "    q_my = quantile_transform(my)\n",
    "    # and we use the Legendre polynomials on [0,1]\n",
    "    max_deg_x = max(degree[0] for degree in degrees)\n",
    "    max_deg_y = max(degree[1] for degree in degrees)\n",
    "    polys_x = legendre_polynomials(q_nx, max_deg_x, a=0)\n",
    "    polys_y = legendre_polynomials(q_my, max_deg_y, a=0)\n",
    "    i_base = 3\n",
    "    for deg_x, deg_y in degrees:\n",
    "        poly_x = polys_x[:, deg_x]\n",
    "        poly_y = polys_y[:, deg_y]\n",
    "        base_funs[:, :, i_base] = np.outer(poly_x, poly_y)\n",
    "        base_names[i_base] = f\"x^{deg_x} * y^{deg_y}\"\n",
    "        i_base += 1\n",
    "    return base_funs, base_names\n"
   ]
  },
  {
   "cell_type": "code",
   "execution_count": null,
   "id": "6e8b63f7",
   "metadata": {},
   "outputs": [
    {
     "name": "stdout",
     "output_type": "stream",
     "text": [
      "['1', '1(x>y)', 'max(x-y,0)', 'x^1 * y^1', 'x^1 * y^2', 'x^2 * y^1']\n"
     ]
    }
   ],
   "source": [
    "#| hide\n",
    "nx = np.array([1.0, 2.0, 4.0])\n",
    "my = np.array([3.0, 1.0])\n",
    "bases, base_names = generate_bases(nx, my, [(1,1), (1,2), (2,1)])\n",
    "test_close(bases[:, :, 0], 1.0)\n",
    "print(base_names)"
   ]
  },
  {
   "cell_type": "code",
   "execution_count": null,
   "id": "7ebf78b0",
   "metadata": {},
   "outputs": [],
   "source": [
    "#| hide\n",
    "import nbdev; nbdev.nbdev_export()"
   ]
  }
 ],
 "metadata": {
  "kernelspec": {
   "display_name": "Python 3 (ipykernel)",
   "language": "python",
   "name": "python3"
  }
 },
 "nbformat": 4,
 "nbformat_minor": 5
}
