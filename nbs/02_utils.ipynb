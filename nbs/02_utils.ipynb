{
 "cells": [
  {
   "cell_type": "raw",
   "id": "93ece02b",
   "metadata": {},
   "source": [
    "---\n",
    "description: This contains utility code\n",
    "output-file: utils.html\n",
    "title: utils\n",
    "\n",
    "---"
   ]
  },
  {
   "cell_type": "code",
   "execution_count": null,
   "id": "357bfad0",
   "metadata": {},
   "outputs": [],
   "source": [
    "#| default_exp utils"
   ]
  },
  {
   "cell_type": "code",
   "execution_count": null,
   "id": "aac27b90",
   "metadata": {},
   "outputs": [],
   "source": [
    "#| hide\n",
    "%load_ext autoreload\n",
    "%autoreload 2"
   ]
  },
  {
   "cell_type": "code",
   "execution_count": null,
   "id": "527772a0",
   "metadata": {},
   "outputs": [],
   "source": [
    "#| export\n",
    "import sys\n",
    "import numpy as np\n",
    "from pathlib import Path\n",
    "\n",
    "from fastcore.test import test_close, test_eq"
   ]
  },
  {
   "cell_type": "code",
   "execution_count": null,
   "id": "9cafee4a",
   "metadata": {},
   "outputs": [],
   "source": [
    "#| export\n",
    "\n",
    "def get_root_dir(\n",
    "                    # no argument\n",
    "    ) -> Path:      # the package directory\n",
    "    \"\"\" returns the package directory \"\"\"\n",
    "    root_dir = Path.cwd().parent\n",
    "#     if platform in [\"linux\", \"linux2\"]:        # we are deploying\n",
    "#         root_dir = Path.cwd().parent\n",
    "    return root_dir"
   ]
  },
  {
   "cell_type": "code",
   "execution_count": null,
   "id": "1b4888dc",
   "metadata": {},
   "outputs": [],
   "source": [
    "#| export\n",
    "\n",
    "def nprepeat_col(\n",
    "    v: np.ndarray,   # a 1-dim array of size `m`\n",
    "    n: int           # the number of columns requested\n",
    ") -> np.ndarray:     # a 2-dim array of shape `(m, n)`\n",
    "    \"\"\" create a matrix with `n` columns equal to the vector`v` \"\"\"\n",
    "    return np.repeat(v[:, np.newaxis], n, axis=1)\n",
    "\n",
    "\n",
    "def nprepeat_row(\n",
    "    v: np.ndarray,   # a 1-dim array of size `n`\n",
    "    m: int           # the number of rows requested\n",
    ") -> np.ndarray:     # a 2-dim array of shape `(m, n)`\n",
    "    \"\"\" create a matrix with `m` rows equal to `v` \"\"\"\n",
    "    return np.repeat(v[np.newaxis, :], m, axis=0)\n",
    "\n"
   ]
  },
  {
   "cell_type": "code",
   "execution_count": null,
   "id": "6201f605",
   "metadata": {},
   "outputs": [],
   "source": [
    "#| export\n",
    "\n",
    "def legendre_polynomials(\n",
    "    x: np.ndarray,      # points where the polynomials are to be evaluated\n",
    "    max_deg: int,       # maximum degree\n",
    "    a: float = -1.0,    # start of interval, classically -1\n",
    "    b: float = 1.0,      # end of interval, classically 1\n",
    "    no_constant: bool = False       # if True, delete the constant polynomial\n",
    "    ) -> np.ndarray:    # returns an array of (max_deg+1) arrays of the shape of x\n",
    "    \"\"\" evaluates the Legendre polynomials over x in the interval [a, b] \"\"\"\n",
    "    if a > np.min(x):\n",
    "        sys.exit(f\"legendre_polynomials: points below start of interval\")\n",
    "    if b <  np.max(x):\n",
    "        sys.exit(f\"legendre_polynomials: points above end of interval\")\n",
    "    p =np.zeros((x.size, max_deg + 1))\n",
    "    p0 = np.ones_like(x)\n",
    "    x_transf = 2.0*(x-a)/(b-a)-1.0\n",
    "    p1 = x_transf\n",
    "    p[:, 0] = np.ones_like(x)\n",
    "    p[:, 1] = x_transf\n",
    "    for deg in range(2, max_deg+1):\n",
    "        p2 = (2*deg-1)*(p[:, deg-1]*x_transf)-(deg-1)*p[:, deg-2]\n",
    "        p[:, deg] = p2/deg\n",
    "    polys_p = p[:, 1:] if no_constant else p\n",
    "    return polys_p"
   ]
  },
  {
   "cell_type": "code",
   "execution_count": null,
   "id": "74e5cd9f",
   "metadata": {},
   "outputs": [],
   "source": [
    "#| hide\n",
    "x= np.arange(1, 4)/5.0\n",
    "x_transf = 2*x-1\n",
    "p3 = legendre_polynomials(x, 3, a=0)\n",
    "test_eq(p3.shape, (3,4))\n",
    "test_close(p3[:, 0], 1.0)\n",
    "test_close(p3[:, 1], x_transf)\n",
    "test_close(p3[:, 2], (3*x_transf*x_transf-1)/2)\n",
    "test_close(p3[:, 3], (5*x_transf*x_transf*x_transf-3*x_transf)/2)"
   ]
  },
  {
   "cell_type": "code",
   "execution_count": null,
   "id": "20ca5d14",
   "metadata": {},
   "outputs": [],
   "source": [
    "#| export\n",
    "\n",
    "def quantile_transform(\n",
    "    v: np.ndarray        # a vector of counts\n",
    "    ) -> np.ndarray:     # the corresponding quantiles\n",
    "    \"\"\" transform a vector of counts into the corresponding quantiles \"\"\"\n",
    "    n = v.size\n",
    "    q = np.zeros(n)\n",
    "    for i in range(n):\n",
    "        q[i] = np.sum(v <= v[i])/(n+1)\n",
    "    return q\n",
    "        \n"
   ]
  },
  {
   "cell_type": "code",
   "execution_count": null,
   "id": "5ed83c7b",
   "metadata": {},
   "outputs": [],
   "source": [
    "#| hide\n",
    "test_close(quantile_transform(np.array([2.0, -1.0, 3.5, 4.1, 1.2])), np.array([3, 1, 4, 5, 2])/6.0)"
   ]
  },
  {
   "cell_type": "code",
   "execution_count": null,
   "id": "fa0adc88",
   "metadata": {},
   "outputs": [],
   "source": [
    "#| hide\n",
    "import nbdev; nbdev.nbdev_export()"
   ]
  }
 ],
 "metadata": {
  "kernelspec": {
   "display_name": "Python 3 (ipykernel)",
   "language": "python",
   "name": "python3"
  }
 },
 "nbformat": 4,
 "nbformat_minor": 5
}
