{
 "cells": [
  {
   "cell_type": "code",
   "execution_count": null,
   "metadata": {},
   "outputs": [],
   "source": [
    "%load_ext autoreload\n",
    "%autoreload 2"
   ]
  },
  {
   "cell_type": "code",
   "execution_count": null,
   "metadata": {},
   "outputs": [],
   "source": [
    "#| hide\n",
    "from matching_separable_simuls.read_data import get_root_dir, read_margins, read_marriages, normalize_mus, \\\n",
    "    reshape_varcov\n",
    "from cupid_matching.matching_utils import Matching, _get_singles\n",
    "import numpy as np\n",
    "from typing import Tuple\n",
    "from fastcore.test import test_eq"
   ]
  },
  {
   "cell_type": "markdown",
   "metadata": {},
   "source": [
    "# matching_separable_simuls\n",
    "\n",
    "> Simulations for Galichon-Salanie paper on estimating separable matching models"
   ]
  },
  {
   "cell_type": "markdown",
   "metadata": {},
   "source": [
    "## Install"
   ]
  },
  {
   "cell_type": "markdown",
   "metadata": {},
   "source": [
    "```sh\n",
    "pip install matching_separable_simuls\n",
    "```"
   ]
  },
  {
   "cell_type": "markdown",
   "metadata": {},
   "source": [
    "## summary"
   ]
  },
  {
   "cell_type": "markdown",
   "metadata": {},
   "source": [
    "The package reads the marriage patterns from the Choo and Siow 2006 *Journal of Political Economy* paper for the non-reform states of the  1970 wave. It fits a parsimonious homoskedastic logit model. Then it generates $S$ datasets from the fitted model, and it uses them to test the estimation methods presented in Galichon-Salanié 2022."
   ]
  },
  {
   "cell_type": "markdown",
   "metadata": {},
   "source": [
    "## reading the data"
   ]
  },
  {
   "cell_type": "code",
   "execution_count": null,
   "metadata": {},
   "outputs": [],
   "source": [
    "#| echo: false\n",
    "data_dir = get_root_dir() / \"matching_separable_simuls\" / \"ChooSiow70nNdata\""
   ]
  },
  {
   "cell_type": "code",
   "execution_count": null,
   "metadata": {},
   "outputs": [
    {
     "name": "stdout",
     "output_type": "stream",
     "text": [
      "\n",
      "The data has 25 types of men and 25 types of women.\n"
     ]
    }
   ],
   "source": [
    "#| echo: false\n",
    "nx, my = read_margins(data_dir)\n",
    "muxy, varmus = read_marriages(data_dir)\n",
    "ncat_men, ncat_women = muxy.shape\n",
    "mux0, mu0y = _get_singles(muxy, nx, my)\n",
    "print(f\"\\nThe data has {ncat_men} types of men and {ncat_women} types of women.\")"
   ]
  },
  {
   "cell_type": "markdown",
   "metadata": {},
   "source": [
    "We reshape the variance-covariance matrix and we normalize the data  to a unit \n",
    "total mass of households."
   ]
  },
  {
   "cell_type": "code",
   "execution_count": null,
   "metadata": {},
   "outputs": [],
   "source": [
    "#| hide\n",
    "test_eq(muxy[3,4], 16730.0)\n",
    "test_eq(nx[-1], 84399)\n",
    "test_eq(my[7], 281192)\n",
    "test_eq(varmus.shape, (675, 675))"
   ]
  },
  {
   "cell_type": "code",
   "execution_count": null,
   "metadata": {},
   "outputs": [],
   "source": [
    "#| echo: true\n",
    "# the number of households in the population\n",
    "n_households_pop = np.sum(nx) + np.sum(my) - np.sum(muxy)\n",
    "\n",
    "mus = Matching(muxy, nx, my)\n",
    "mus_norm = normalize_mus(mus, n_households_pop)\n",
    "\n",
    "varcovs_norm = reshape_varcov(varmus, ncat_men, ncat_women, n_households_pop)"
   ]
  },
  {
   "cell_type": "markdown",
   "metadata": {},
   "source": [
    "## fitting a basic model"
   ]
  },
  {
   "cell_type": "markdown",
   "metadata": {},
   "source": [
    "First we need to generate some basis functions."
   ]
  },
  {
   "cell_type": "markdown",
   "metadata": {},
   "source": [
    "## generating artificial datasets"
   ]
  },
  {
   "cell_type": "markdown",
   "metadata": {},
   "source": [
    "## fitting a homoskedastic logit model"
   ]
  },
  {
   "cell_type": "markdown",
   "metadata": {},
   "source": [
    "## fitting a nested logit model"
   ]
  }
 ],
 "metadata": {
  "kernelspec": {
   "display_name": "Python 3 (ipykernel)",
   "language": "python",
   "name": "python3"
  }
 },
 "nbformat": 4,
 "nbformat_minor": 4
}
